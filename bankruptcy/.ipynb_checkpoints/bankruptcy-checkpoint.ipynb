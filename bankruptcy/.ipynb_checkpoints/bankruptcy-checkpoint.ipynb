{
 "cells": [
  {
   "cell_type": "code",
   "execution_count": null,
   "id": "d75a1795",
   "metadata": {},
   "outputs": [],
   "source": [
    "import pandas as pd\n",
    "import matplotlib.pyplot as plt\n",
    "import seaborn as sns"
   ]
  },
  {
   "cell_type": "code",
   "execution_count": null,
   "id": "29c525c7",
   "metadata": {},
   "outputs": [],
   "source": [
    "df = pd.read_csv('data.csv')\n",
    "df.shape"
   ]
  },
  {
   "cell_type": "code",
   "execution_count": null,
   "id": "9b01395b",
   "metadata": {
    "scrolled": true
   },
   "outputs": [],
   "source": [
    "df.head()"
   ]
  },
  {
   "cell_type": "code",
   "execution_count": null,
   "id": "8fd41c49",
   "metadata": {},
   "outputs": [],
   "source": [
    "df.info()"
   ]
  },
  {
   "cell_type": "code",
   "execution_count": null,
   "id": "24717d47",
   "metadata": {},
   "outputs": [],
   "source": [
    "fig, axes = plt.subplots(5, 6, figsize=(12, 12))\n",
    "df[df[\"Bankrupt?\"] == 1].iloc[:, :30].hist(bins=50, alpha=.5, ax=axes);\n",
    "df[df[\"Bankrupt?\"] == 0].iloc[:, :30].hist(bins=50, alpha=.5, ax=axes);"
   ]
  },
  {
   "cell_type": "code",
   "execution_count": null,
   "id": "bb2fa341",
   "metadata": {},
   "outputs": [],
   "source": [
    "fig, axes = plt.subplots(5, 6, figsize=(12, 12))\n",
    "df[df[\"Bankrupt?\"] == 1].iloc[:, 30:60].hist(bins=50, alpha=.5, ax=axes);\n",
    "df[df[\"Bankrupt?\"] == 0].iloc[:, 30:60].hist(bins=50, alpha=.5, ax=axes);"
   ]
  },
  {
   "cell_type": "code",
   "execution_count": null,
   "id": "5a09e443",
   "metadata": {},
   "outputs": [],
   "source": [
    "df.dtypes.value_counts()"
   ]
  },
  {
   "cell_type": "code",
   "execution_count": null,
   "id": "453f50ac",
   "metadata": {},
   "outputs": [],
   "source": [
    "df.dtypes.describe()"
   ]
  },
  {
   "cell_type": "code",
   "execution_count": null,
   "id": "d72b8909",
   "metadata": {},
   "outputs": [],
   "source": [
    "df.describe()"
   ]
  },
  {
   "cell_type": "code",
   "execution_count": null,
   "id": "07a7a3f8",
   "metadata": {},
   "outputs": [],
   "source": [
    "df.describe().T.describe().round(2)"
   ]
  },
  {
   "cell_type": "code",
   "execution_count": null,
   "id": "8ab5e913",
   "metadata": {},
   "outputs": [],
   "source": [
    "df.skew().describe()"
   ]
  },
  {
   "cell_type": "code",
   "execution_count": null,
   "id": "4282e26e",
   "metadata": {},
   "outputs": [],
   "source": [
    "df.kurt().describe()"
   ]
  },
  {
   "cell_type": "code",
   "execution_count": null,
   "id": "6a56ecd6",
   "metadata": {},
   "outputs": [],
   "source": [
    "corr = df.corr()"
   ]
  },
  {
   "cell_type": "code",
   "execution_count": null,
   "id": "ca742c85",
   "metadata": {},
   "outputs": [],
   "source": [
    "sns.heatmap(corr)"
   ]
  },
  {
   "cell_type": "code",
   "execution_count": null,
   "id": "f6172406",
   "metadata": {},
   "outputs": [],
   "source": [
    "corr.describe().T.describe()"
   ]
  },
  {
   "cell_type": "code",
   "execution_count": null,
   "id": "29502b6b",
   "metadata": {},
   "outputs": [],
   "source": [
    "sns.violinplot(df)"
   ]
  },
  {
   "cell_type": "code",
   "execution_count": null,
   "id": "9851dad8",
   "metadata": {},
   "outputs": [],
   "source": [
    "df_scaling = (df - df.mean()) / df.std()\n",
    "df_scaling.describe().round(2)"
   ]
  },
  {
   "cell_type": "code",
   "execution_count": null,
   "id": "16f4add5",
   "metadata": {},
   "outputs": [],
   "source": [
    "df_scaling.describe().T.describe().round(4)"
   ]
  },
  {
   "cell_type": "code",
   "execution_count": null,
   "id": "c36922ef",
   "metadata": {},
   "outputs": [],
   "source": [
    "sns.violinplot(df_scaling)"
   ]
  },
  {
   "cell_type": "code",
   "execution_count": null,
   "id": "337928bc",
   "metadata": {},
   "outputs": [],
   "source": [
    "lable_name = \"Bankrupt?\"\n",
    "\n",
    "X_raw = df.drop(columns=lable_name)\n",
    "y_raw = df[lable_name]\n",
    "\n",
    "X_raw.shape, y_raw.shape"
   ]
  },
  {
   "cell_type": "code",
   "execution_count": null,
   "id": "ff7a2aa6",
   "metadata": {},
   "outputs": [],
   "source": [
    "import sys\n",
    "!{sys.executable} -m pip install --upgrade imbalanced-learn\n"
   ]
  },
  {
   "cell_type": "code",
   "execution_count": null,
   "id": "ebc9e6aa",
   "metadata": {},
   "outputs": [],
   "source": [
    "from imblearn.over_sampling import SMOTE\n",
    "print(\"imblearn import 성공!\")\n"
   ]
  },
  {
   "cell_type": "code",
   "execution_count": null,
   "id": "60cba398",
   "metadata": {},
   "outputs": [],
   "source": [
    "from imblearn.over_sampling import SMOTE\n",
    "\n",
    "sm = SMOTE(random_state=42)\n",
    "X, y = sm.fit_resample(X_raw, y_raw)\n",
    "X.shape, y.shape"
   ]
  },
  {
   "cell_type": "code",
   "execution_count": null,
   "id": "152a272c",
   "metadata": {},
   "outputs": [],
   "source": [
    "X"
   ]
  },
  {
   "cell_type": "code",
   "execution_count": null,
   "id": "338e5f46",
   "metadata": {},
   "outputs": [],
   "source": [
    "from sklearn.model_selection import train_test_split\n",
    "\n",
    "X_train, X_test, y_train, y_test = train_test_split(\n",
    "    X, y, test_size=0.33, stratify=y, random_state=42)"
   ]
  },
  {
   "cell_type": "code",
   "execution_count": null,
   "id": "fb1ab907",
   "metadata": {},
   "outputs": [],
   "source": [
    "from sklearn.ensemble import HistGradientBoostingClassifier\n",
    "\n",
    "model = HistGradientBoostingClassifier()\n",
    "model"
   ]
  },
  {
   "cell_type": "code",
   "execution_count": null,
   "id": "bb10bae5",
   "metadata": {},
   "outputs": [],
   "source": [
    "model.fit(X_train, y_train)"
   ]
  },
  {
   "cell_type": "code",
   "execution_count": null,
   "id": "8c4b6167",
   "metadata": {},
   "outputs": [],
   "source": [
    "y_predict = model.predict(X_test)"
   ]
  },
  {
   "cell_type": "code",
   "execution_count": null,
   "id": "e279436e",
   "metadata": {},
   "outputs": [],
   "source": [
    "(y_test == y_predict).mean()"
   ]
  },
  {
   "cell_type": "code",
   "execution_count": null,
   "id": "2efd3195",
   "metadata": {
    "scrolled": true
   },
   "outputs": [],
   "source": [
    "from sklearn.metrics import classification_report\n",
    "\n",
    "report = classification_report(y_test, y_predict)\n",
    "print(report)"
   ]
  },
  {
   "cell_type": "code",
   "execution_count": null,
   "id": "d4a7b8ba",
   "metadata": {},
   "outputs": [],
   "source": [
    "import sys\n",
    "print(sys.executable)\n"
   ]
  },
  {
   "cell_type": "code",
   "execution_count": null,
   "id": "bd492c60",
   "metadata": {},
   "outputs": [],
   "source": []
  },
  {
   "cell_type": "code",
   "execution_count": null,
   "id": "790adaa3",
   "metadata": {},
   "outputs": [],
   "source": []
  }
 ],
 "metadata": {
  "kernelspec": {
   "display_name": "Python 3 (ipykernel)",
   "language": "python",
   "name": "python3"
  },
  "language_info": {
   "codemirror_mode": {
    "name": "ipython",
    "version": 3
   },
   "file_extension": ".py",
   "mimetype": "text/x-python",
   "name": "python",
   "nbconvert_exporter": "python",
   "pygments_lexer": "ipython3",
   "version": "3.9.2"
  }
 },
 "nbformat": 4,
 "nbformat_minor": 5
}
