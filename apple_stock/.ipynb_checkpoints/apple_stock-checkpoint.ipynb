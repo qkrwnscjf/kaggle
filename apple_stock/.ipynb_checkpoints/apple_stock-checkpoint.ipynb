{
 "cells": [
  {
   "cell_type": "code",
   "execution_count": null,
   "id": "4e6f6442",
   "metadata": {},
   "outputs": [],
   "source": [
    "import pandas as pd\n",
    "import matplotlib.pyplot as plt\n",
    "import seaborn as sns"
   ]
  },
  {
   "cell_type": "code",
   "execution_count": null,
   "id": "c45c794e",
   "metadata": {},
   "outputs": [],
   "source": [
    "df = pd.read_csv(\"apple_stock_data.csv\")"
   ]
  },
  {
   "cell_type": "code",
   "execution_count": null,
   "id": "8b13f771",
   "metadata": {},
   "outputs": [],
   "source": [
    "df.info()\n",
    "df.shape"
   ]
  },
  {
   "cell_type": "code",
   "execution_count": null,
   "id": "866aad1d",
   "metadata": {},
   "outputs": [],
   "source": [
    "df.head()"
   ]
  },
  {
   "cell_type": "code",
   "execution_count": null,
   "id": "3b4a14a9",
   "metadata": {},
   "outputs": [],
   "source": [
    "df.isnull().sum()"
   ]
  },
  {
   "cell_type": "code",
   "execution_count": null,
   "id": "009d179c",
   "metadata": {},
   "outputs": [],
   "source": [
    "df.describe()"
   ]
  },
  {
   "cell_type": "code",
   "execution_count": null,
   "id": "22a1a28e",
   "metadata": {},
   "outputs": [],
   "source": [
    "df.dtypes.value_counts()"
   ]
  },
  {
   "cell_type": "code",
   "execution_count": null,
   "id": "0545517a",
   "metadata": {},
   "outputs": [],
   "source": [
    "df.dtypes.describe()"
   ]
  },
  {
   "cell_type": "code",
   "execution_count": null,
   "id": "a901b161",
   "metadata": {},
   "outputs": [],
   "source": [
    "# 종가 시계열\n",
    "df['Close Price'].plot(figsize=(12, 5), title='AAPL CLOSE_PRICE (2010–2024)', grid=True)\n",
    "plt.ylabel('Dollar ($)')\n",
    "plt.show()\n"
   ]
  },
  {
   "cell_type": "code",
   "execution_count": null,
   "id": "f1c5df94",
   "metadata": {},
   "outputs": [],
   "source": [
    "df.skew().describe()"
   ]
  },
  {
   "cell_type": "code",
   "execution_count": null,
   "id": "5f6f7921",
   "metadata": {},
   "outputs": [],
   "source": [
    "df.kurt().describe()"
   ]
  },
  {
   "cell_type": "code",
   "execution_count": null,
   "id": "db55d2a9",
   "metadata": {},
   "outputs": [],
   "source": [
    "import pandas as pd\n",
    "import matplotlib.pyplot as plt\n",
    "\n",
    "# 1. Load data\n",
    "df = pd.read_csv(\"apple_stock_data.csv\")\n",
    "\n",
    "# 2. 날짜 컬럼을 datetime으로 변환 & 정렬\n",
    "df['Date'] = pd.to_datetime(df['Date'], format='%d-%m-%Y')\n",
    "df.sort_values('Date', inplace=True)\n",
    "\n",
    "# 3. 인덱스를 날짜로\n",
    "df.set_index('Date', inplace=True)\n",
    "\n",
    "# 4. 종가만 추출\n",
    "close = df['Close Price']\n",
    "\n",
    "# Plot\n",
    "close.plot(figsize=(14,6), title='Apple Close Price')\n",
    "plt.ylabel(\"Price ($)\")\n",
    "plt.show()\n"
   ]
  },
  {
   "cell_type": "code",
   "execution_count": null,
   "id": "26c1f28b",
   "metadata": {},
   "outputs": [],
   "source": [
    "pip install prophet\n"
   ]
  },
  {
   "cell_type": "code",
   "execution_count": null,
   "id": "ab936da3",
   "metadata": {
    "scrolled": false
   },
   "outputs": [],
   "source": [
    "from prophet import Prophet\n",
    "\n",
    "# Prophet은 'ds', 'y' 라는 컬럼명을 사용함\n",
    "df_prophet = close.reset_index().rename(columns={\"Date\": \"ds\", \"Close Price\": \"y\"})\n",
    "\n",
    "# 모델 학습\n",
    "model = Prophet()\n",
    "model.fit(df_prophet)\n",
    "\n",
    "# 미래 날짜 생성 (예: 90일 후까지)\n",
    "future = model.make_future_dataframe(periods=90)\n",
    "forecast = model.predict(future)\n",
    "\n",
    "# 결과 시각화\n",
    "model.plot(forecast)\n",
    "plt.title(\"Apple Stock Price Forecast\")\n",
    "plt.show()\n"
   ]
  },
  {
   "cell_type": "code",
   "execution_count": null,
   "id": "f1008a37",
   "metadata": {},
   "outputs": [],
   "source": [
    "import pandas as pd\n",
    "import matplotlib.pyplot as plt\n",
    "from prophet import Prophet\n",
    "\n",
    "# 1. 데이터 로드\n",
    "df = pd.read_csv(\"apple_stock_data.csv\")\n",
    "df['Date'] = pd.to_datetime(df['Date'], format='%d-%m-%Y')\n",
    "df = df.sort_values('Date')\n",
    "\n",
    "# 2. Prophet에 맞게 컬럼명 변경\n",
    "df_prophet = df[['Date', 'Close Price']].rename(columns={'Date': 'ds', 'Close Price': 'y'})\n",
    "\n",
    "# 3. 모델 생성 및 학습\n",
    "model = Prophet()\n",
    "model.fit(df_prophet)\n"
   ]
  },
  {
   "cell_type": "code",
   "execution_count": null,
   "id": "10a58a3c",
   "metadata": {},
   "outputs": [],
   "source": [
    "# 미래 30일 데이터 생성\n",
    "future_30 = model.make_future_dataframe(periods=30)\n",
    "forecast_30 = model.predict(future_30)\n",
    "\n",
    "# 시각화\n",
    "model.plot(forecast_30)\n",
    "plt.title(\"📊 Apple Stock - 30 Day Forecast\")\n",
    "plt.xlabel(\"Date\")\n",
    "plt.ylabel(\"Close Price\")\n",
    "plt.show()\n"
   ]
  },
  {
   "cell_type": "code",
   "execution_count": null,
   "id": "5ba0dfca",
   "metadata": {},
   "outputs": [],
   "source": [
    "# 미래 180일 데이터 생성\n",
    "future_180 = model.make_future_dataframe(periods=180)\n",
    "forecast_180 = model.predict(future_180)\n",
    "\n",
    "# 시각화\n",
    "model.plot(forecast_180)\n",
    "plt.title(\"📊 Apple Stock - 180 Day Forecast\")\n",
    "plt.xlabel(\"Date\")\n",
    "plt.ylabel(\"Close Price\")\n",
    "plt.show()\n"
   ]
  },
  {
   "cell_type": "code",
   "execution_count": null,
   "id": "68a7a8e4",
   "metadata": {},
   "outputs": [],
   "source": [
    "df['Date'] = pd.to_datetime(df['Date'], format='%d-%m-%Y')\n",
    "df = df.sort_values('Date')\n",
    "\n",
    "# 종가 기준 수익률\n",
    "df['Return'] = df['Close Price'].pct_change()\n",
    "\n",
    "# 이동 평균 (단기/중기/장기)\n",
    "df['MA_5'] = df['Close Price'].rolling(window=5).mean()\n",
    "df['MA_10'] = df['Close Price'].rolling(window=10).mean()\n",
    "df['MA_30'] = df['Close Price'].rolling(window=30).mean()\n",
    "\n",
    "# 변동성\n",
    "df['Volatility'] = df['Close Price'].rolling(window=5).std()\n",
    "\n",
    "# 타겟: 다음날 종가가 오늘보다 높으면 1\n",
    "df['Target'] = (df['Close Price'].shift(-1) > df['Close Price']).astype(int)\n",
    "\n",
    "# 결측 제거\n",
    "df = df.dropna()\n"
   ]
  },
  {
   "cell_type": "code",
   "execution_count": null,
   "id": "96555922",
   "metadata": {},
   "outputs": [],
   "source": [
    "from sklearn.ensemble import RandomForestClassifier\n",
    "from sklearn.model_selection import train_test_split\n",
    "from sklearn.metrics import classification_report, accuracy_score\n",
    "\n",
    "features = ['Return', 'MA_5', 'MA_10', 'MA_30', 'Volatility']\n",
    "X = df[features]\n",
    "y = df['Target']\n",
    "\n",
    "X_train, X_test, y_train, y_test = train_test_split(X, y, test_size=0.2, random_state=42, stratify=y)\n",
    "\n",
    "model = RandomForestClassifier(random_state=42)\n",
    "model.fit(X_train, y_train)\n",
    "\n",
    "y_pred = model.predict(X_test)\n",
    "print(classification_report(y_test, y_pred))\n",
    "print(\"Accuracy:\", accuracy_score(y_test, y_pred))\n"
   ]
  },
  {
   "cell_type": "code",
   "execution_count": null,
   "id": "b9e50d16",
   "metadata": {},
   "outputs": [],
   "source": [
    "import pandas as pd\n",
    "from sklearn.linear_model import LogisticRegression\n",
    "from sklearn.model_selection import train_test_split\n",
    "from sklearn.metrics import accuracy_score, classification_report\n",
    "import matplotlib.pyplot as plt\n",
    "\n",
    "# 1. 데이터 불러오기\n",
    "df = pd.read_csv(\"apple_stock_data.csv\")\n",
    "df['Date'] = pd.to_datetime(df['Date'], format='%d-%m-%Y')\n",
    "df = df.sort_values('Date')\n",
    "\n",
    "# 2. Feature Engineering\n",
    "df['Return'] = df['Close Price'].pct_change()\n",
    "df['MA_5'] = df['Close Price'].rolling(window=5).mean()\n",
    "df['MA_10'] = df['Close Price'].rolling(window=10).mean()\n",
    "df['MA_30'] = df['Close Price'].rolling(window=30).mean()\n",
    "df['Volatility'] = df['Close Price'].rolling(window=5).std()\n",
    "\n",
    "# 3. 타겟 생성 (다음날 종가 > 오늘 종가 → 1)\n",
    "df['Target'] = (df['Close Price'].shift(-1) > df['Close Price']).astype(int)\n",
    "\n",
    "# 4. 결측치 제거\n",
    "df = df.dropna()\n",
    "\n",
    "# 5. Feature/Label 분리\n",
    "features = ['Return', 'MA_5', 'MA_10', 'MA_30', 'Volatility']\n",
    "X = df[features]\n",
    "y = df['Target']\n",
    "\n",
    "# 6. 데이터 분할\n",
    "X_train, X_test, y_train, y_test = train_test_split(X, y, test_size=0.2, random_state=42, stratify=y)\n",
    "\n",
    "# 7. 로지스틱 회귀 모델 훈련\n",
    "model = LogisticRegression(max_iter=1000)\n",
    "model.fit(X_train, y_train)\n",
    "\n",
    "# 8. 예측 및 평가\n",
    "y_pred = model.predict(X_test)\n",
    "print(\"정확도:\", accuracy_score(y_test, y_pred))\n",
    "print(classification_report(y_test, y_pred))\n"
   ]
  },
  {
   "cell_type": "code",
   "execution_count": null,
   "id": "dcb1f008",
   "metadata": {},
   "outputs": [],
   "source": []
  },
  {
   "cell_type": "code",
   "execution_count": null,
   "id": "53051a5b",
   "metadata": {},
   "outputs": [],
   "source": []
  },
  {
   "cell_type": "code",
   "execution_count": null,
   "id": "835659a1",
   "metadata": {},
   "outputs": [],
   "source": []
  }
 ],
 "metadata": {
  "kernelspec": {
   "display_name": "Python 3 (ipykernel)",
   "language": "python",
   "name": "python3"
  },
  "language_info": {
   "codemirror_mode": {
    "name": "ipython",
    "version": 3
   },
   "file_extension": ".py",
   "mimetype": "text/x-python",
   "name": "python",
   "nbconvert_exporter": "python",
   "pygments_lexer": "ipython3",
   "version": "3.9.2"
  }
 },
 "nbformat": 4,
 "nbformat_minor": 5
}
